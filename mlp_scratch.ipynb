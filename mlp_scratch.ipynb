{
 "cells": [
  {
   "cell_type": "code",
   "execution_count": 4,
   "metadata": {},
   "outputs": [],
   "source": [
    "import numpy as np\n",
    "import math\n",
    "import matplotlib.pyplot as plt"
   ]
  },
  {
   "cell_type": "code",
   "execution_count": 5,
   "metadata": {},
   "outputs": [],
   "source": [
    "def sigmoid_(x):\n",
    "    \"\"\"devuelve el valor de la función sigmoid y su derivada\"\"\"\n",
    "    y = 1.0/(1.0+np.exp(-x))\n",
    "    der = y*(1-y)\n",
    "    return y, der\n",
    "    \n",
    "def relu_(x):\n",
    "    \"\"\"devuleve el valor de la función ReLu y su derivada\"\"\"\n",
    "    y = np.maximum(0,x)\n",
    "    der = x.copy()\n",
    "    der[x<=0] = 0\n",
    "    der[x>0] = 1\n",
    "    return y, der\n",
    "\n",
    "def rms_(x,y):\n",
    "    \"\"\"calcula el error cuadrático medio\"\"\"\n",
    "    res = (x-y)**2\n",
    "    return res.mean()"
   ]
  },
  {
   "cell_type": "code",
   "execution_count": 93,
   "metadata": {},
   "outputs": [],
   "source": [
    "class MLP():\n",
    "    \"\"\"crea un objeto para una red neuronal\"\"\"\n",
    "    def __init__(self, red, N, epochs):\n",
    "        \"\"\"se inicializan los valores necesarios para la red\"\"\"\n",
    "        self.red = red\n",
    "        self.lr = lr\n",
    "#         self.X = X #tamaño Nxn0 (número de datos x dimensión de la red de entrada)\n",
    "#         self.Y = Y #tamaño NxnL (número de datos x dimensión de la red de salida)\n",
    "        self.N = N #número de datos de entrada\n",
    "        self.epochs = epochs\n",
    "        \n",
    "        \n",
    "    def create_(self):\n",
    "        \"\"\"crea las matrices w y b iniciales de la red\"\"\"\n",
    "    \n",
    "        w_list = [0]\n",
    "        b_list = [0]\n",
    "        \n",
    "        for i,j in enumerate(self.red[:-1]):\n",
    "            w = np.random.randn(j,self.red[i+1])\n",
    "            b = np.random.randn(1,self.red[i+1])\n",
    "            w_list.append(w)\n",
    "            b_list.append(b)\n",
    "            \n",
    "        return w_list, b_list\n",
    "            \n",
    "\n",
    "    def forward_(self,w_list, b_list, X):\n",
    "        \"\"\"hace la multiplicación hacia adelante\"\"\"\n",
    "        z_list = []\n",
    "        a_list = []\n",
    "        \n",
    "        z_list.append(0)  ## este es un dato dummy, solo para el el tamaño de la lista de z y de a coincidan\n",
    "        a_list.append(X)\n",
    "        z = np.dot(X,w_list[1])+b_list[1]\n",
    "        a = sigmoid_(z)[1]\n",
    "        z_list.append(z); a_list.append(a)\n",
    "        \n",
    "        for i in range(len(w_list))[2:]:\n",
    "            \n",
    "            z = np.dot(a,w_list[i])+b_list[i]\n",
    "            a = sigmoid_(z)[0]\n",
    "            \n",
    "            z_list.append(z); a_list.append(a)\n",
    "            \n",
    "        return z_list, a_list\n",
    "    \n",
    "    def backward_(self, z_list, a_list, w_list, b_list, Y):\n",
    "        \"\"\"hace la propagación hacia atrás\"\"\"\n",
    "        z_list = z_list\n",
    "        a_list = a_list\n",
    "        deltas_list = []\n",
    "        grad_list = [0]\n",
    "        grad_b_list = [0]\n",
    "        inx_red = zip(reversed(range(1,len(self.red))),reversed(self.red[1:]))\n",
    "        for i,j in inx_red:\n",
    "            if i == len(self.red)-1:\n",
    "                delta = 2*(a_list[i]-Y)*sigmoid_(Y)[1]/Y.shape[0]\n",
    "\n",
    "                deltas_list.insert(0,delta)\n",
    "\n",
    "            else:\n",
    "                delta1 = np.zeros((Y.shape[0],j))\n",
    "                for k in range(Y.shape[0]):\n",
    "                    for beta in range(j):\n",
    "                        for alpha in range(self.red[i+1]):\n",
    "        \n",
    "                            delta1[k,beta] = deltas_list[0][k,alpha]*w_list[i+1][beta,alpha]*sigmoid_(z_list[i][k,beta])[1]\n",
    "                deltas_list.insert(0,delta1)\n",
    "        \n",
    "\n",
    "        for i in range(len(deltas_list)):\n",
    "            grad = a_list[i].T@deltas_list[i]\n",
    "            grad_list.append(grad)\n",
    "            grad_b = deltas_list[i].sum(0)\n",
    "            grad_b_list.append(grad_b.reshape(1,len(deltas_list[i][1]))) ## hace un reshape para que coincida la dimensión con los valores de b\n",
    "        return grad_list, grad_b_list\n",
    "    \n",
    "    def loss_(self, a, Y):\n",
    "        \"\"\"calcula el error\"\"\"\n",
    "        loss = (a-Y)**2\n",
    "        return loss.mean()\n",
    "    \n",
    "    def slices_(self,X,Y):\n",
    "            \"\"\"divide la matriz de entrada y de salida de acuerdo al número de épocas\"\"\"\n",
    "            slices = math.ceil(self.N / epochs)\n",
    "#             print(slices, epochs)\n",
    "            X_list = []\n",
    "            Y_list = []\n",
    "            for i in range(epochs-1):\n",
    "#                 print(i, 'a')\n",
    "                X_s = X[i*slices:(i+1)*slices,:]\n",
    "                Y_s = Y[i*slices:(i+1)*slices,:]\n",
    "                X_list.append(X_s)\n",
    "                Y_list.append(Y_s)\n",
    "#             print(i, 'b')\n",
    "            X_s = X[(epochs-1)*slices:,:]\n",
    "            Y_s = Y[(epochs-1)*slices:,:]\n",
    "            X_list.append(X_s)\n",
    "            Y_list.append(Y_s)\n",
    "                    \n",
    "            return X_list, Y_list\n",
    "        \n",
    "                \n",
    "            \n"
   ]
  },
  {
   "cell_type": "code",
   "execution_count": 102,
   "metadata": {},
   "outputs": [
    {
     "name": "stdout",
     "output_type": "stream",
     "text": [
      "epoch: 0 loss: 1.2992119195650007\n",
      "epoch: 1 loss: 1.2228137877493808\n",
      "epoch: 2 loss: 1.5036431789311635\n",
      "epoch: 3 loss: 1.399909069835776\n",
      "epoch: 4 loss: 1.6094902459089262\n",
      "epoch: 5 loss: 1.5383323157962476\n",
      "epoch: 6 loss: 1.1921649988888594\n",
      "epoch: 7 loss: 1.1807304381028303\n",
      "epoch: 8 loss: 1.2171125006983876\n",
      "epoch: 9 loss: 1.2938921234140102\n",
      "epoch: 10 loss: 1.417414014649456\n",
      "epoch: 11 loss: 1.4698451960960317\n",
      "epoch: 12 loss: 1.3403781361758835\n",
      "epoch: 13 loss: 1.3838806686611371\n",
      "epoch: 14 loss: 1.259867181342462\n",
      "epoch: 15 loss: 1.4499410336879093\n",
      "epoch: 16 loss: 1.3731862884103434\n",
      "epoch: 17 loss: 1.566908233415475\n",
      "epoch: 18 loss: 1.2261302670841685\n",
      "epoch: 19 loss: 1.34350100915335\n",
      "epoch: 20 loss: 1.4559696819928087\n",
      "epoch: 21 loss: 1.2839207559838122\n",
      "epoch: 22 loss: 1.2717581282366044\n",
      "epoch: 23 loss: 1.4312967486723276\n",
      "epoch: 24 loss: 1.5266110987098709\n",
      "epoch: 25 loss: 1.3942639601580913\n",
      "epoch: 26 loss: 1.4386164833186277\n",
      "epoch: 27 loss: 1.3706733194291087\n",
      "epoch: 28 loss: 1.4831075207404274\n",
      "epoch: 29 loss: 1.386178622087714\n",
      "epoch: 30 loss: 1.5922572942167628\n",
      "epoch: 31 loss: 1.484640359534225\n",
      "epoch: 32 loss: 1.4702183268940408\n",
      "epoch: 33 loss: 1.347005039315901\n",
      "epoch: 34 loss: 1.189447479625461\n",
      "epoch: 35 loss: 1.301707291414983\n",
      "epoch: 36 loss: 1.4448136031060244\n",
      "epoch: 37 loss: 1.371236630418653\n",
      "epoch: 38 loss: 1.4688874485568237\n",
      "epoch: 39 loss: 1.3802991487673113\n",
      "epoch: 40 loss: 1.4575771498448606\n",
      "epoch: 41 loss: 1.4664685489393314\n",
      "epoch: 42 loss: 1.4266124181515185\n",
      "epoch: 43 loss: 1.3359476331647688\n",
      "epoch: 44 loss: 1.4701634773133279\n",
      "epoch: 45 loss: 1.2895552697582278\n",
      "epoch: 46 loss: 1.4143735685788836\n",
      "epoch: 47 loss: 1.2822298201326567\n",
      "epoch: 48 loss: 1.3344376451297464\n",
      "epoch: 49 loss: 1.2184328230047425\n",
      "epoch: 50 loss: 1.5211841472926964\n",
      "epoch: 51 loss: 1.2214792184374597\n",
      "epoch: 52 loss: 1.2921155858746396\n",
      "epoch: 53 loss: 1.5851949941101733\n",
      "epoch: 54 loss: 1.3676909511057795\n",
      "epoch: 55 loss: 1.4048058356889022\n",
      "epoch: 56 loss: 1.3204924507917413\n",
      "epoch: 57 loss: 1.360967868906358\n",
      "epoch: 58 loss: 1.254093245179115\n",
      "epoch: 59 loss: 1.2777962306843869\n",
      "epoch: 60 loss: 1.376685279472331\n",
      "epoch: 61 loss: 1.2064658566543025\n",
      "epoch: 62 loss: 1.376745838043812\n",
      "epoch: 63 loss: 1.2315113873321382\n",
      "epoch: 64 loss: 1.5120516737223895\n",
      "epoch: 65 loss: 1.2523693657915005\n",
      "epoch: 66 loss: 1.2550064988396354\n",
      "epoch: 67 loss: 1.3407312237821267\n",
      "epoch: 68 loss: 1.1981371057050858\n",
      "epoch: 69 loss: 1.1641733873181648\n",
      "epoch: 70 loss: 1.3333916902167826\n",
      "epoch: 71 loss: 1.347834776116778\n",
      "epoch: 72 loss: 1.3459044243465499\n",
      "epoch: 73 loss: 1.4196762211268081\n",
      "epoch: 74 loss: 1.3029433922978209\n",
      "epoch: 75 loss: 1.313518984115391\n",
      "epoch: 76 loss: 1.1952809725508524\n",
      "epoch: 77 loss: 1.0651508791770015\n",
      "epoch: 78 loss: 1.351585534091851\n",
      "epoch: 79 loss: 1.3314170853233178\n",
      "epoch: 80 loss: 1.0967246958000063\n",
      "epoch: 81 loss: 1.3784628298136101\n",
      "epoch: 82 loss: 1.287674656546563\n",
      "epoch: 83 loss: 1.2402379575998117\n",
      "epoch: 84 loss: 1.5271670323300872\n",
      "epoch: 85 loss: 1.1620388923623317\n",
      "epoch: 86 loss: 1.362155058592127\n",
      "epoch: 87 loss: 1.2698142660985408\n",
      "epoch: 88 loss: 1.1837665532909147\n",
      "epoch: 89 loss: 1.5687217940878058\n",
      "epoch: 90 loss: 1.3519194666001666\n",
      "epoch: 91 loss: 1.1855350967768201\n",
      "epoch: 92 loss: 1.1595605498440908\n",
      "epoch: 93 loss: 1.3918925316210455\n",
      "epoch: 94 loss: 1.260270885044992\n",
      "epoch: 95 loss: 1.3796320510544684\n",
      "epoch: 96 loss: 1.2297178356978766\n",
      "epoch: 97 loss: 1.296666697738791\n",
      "epoch: 98 loss: 1.1567218309493252\n",
      "epoch: 99 loss: 1.2455265968791756\n"
     ]
    }
   ],
   "source": [
    "\n",
    "\n",
    "epochs = 100\n",
    "lr = 0.01\n",
    "N = 10000\n",
    "red = [2,3,5,6,3]\n",
    "\n",
    "X = np.random.randn(N,red[0])\n",
    "Y = np.random.randn(N,red[-1])\n",
    "\n",
    "nn = MLP(red, N, epochs)\n",
    "\n",
    "w, b = nn.create_()\n",
    "\n",
    "X_list, Y_list= nn.slices_(X,Y)\n",
    "\n",
    "# z,a = nn.forward_(w,b,X_list[0])\n",
    "\n",
    "# gw, gb = nn.backward_(z,a,w,b,Y_list[0])\n",
    "\n",
    "# for i in range(len(gw))[1:]:\n",
    "#     print(gw[i].shape, gb[i].shape)\n",
    "    \n",
    "def train_(w,b, epochs = epochs, lr=lr):\n",
    "    \"\"\"entrena el modelo\"\"\"\n",
    "    for i in range(epochs):\n",
    "        z,a = nn.forward_(w,b,X_list[i])\n",
    "        gw, gb = nn.backward_(z,a,w,b,Y_list[i])\n",
    "        \n",
    "        for j in range(len(w)):\n",
    "            w[j] -= lr*gw[j]\n",
    "            b[j] -= lr*gb[j]\n",
    "            \n",
    "        loss = nn.loss_(a[-1],Y_list[i])\n",
    "        \n",
    "        print('epoch:', i, 'loss:', loss)\n",
    "        \n",
    "train_(w,b)\n",
    "        \n",
    "# z, a = prueba.forward_(w,b)\n",
    "# gr, gr_b= prueba.backward_(z,a,w,b)\n",
    "# loss = prueba.loss_(a[4])\n",
    "\n",
    "# for i in range(len(gr))[1:]:\n",
    "#     print(gr[i].shape, gr_b[i].shape)\n",
    "# print(loss)\n",
    "# print(len(prueba1),len(prueba2))\n"
   ]
  },
  {
   "cell_type": "code",
   "execution_count": 55,
   "metadata": {},
   "outputs": [
    {
     "name": "stdout",
     "output_type": "stream",
     "text": [
      "[[ 1  4  9]\n",
      " [16 25 36]]\n"
     ]
    }
   ],
   "source": [
    "a = np.array([[1,2,3],[4,5,6]])\n",
    "print(a**2)"
   ]
  },
  {
   "cell_type": "code",
   "execution_count": 281,
   "metadata": {},
   "outputs": [
    {
     "data": {
      "text/plain": [
       "array([1, 2, 3])"
      ]
     },
     "execution_count": 281,
     "metadata": {},
     "output_type": "execute_result"
    }
   ],
   "source": [
    "x[:-1]"
   ]
  },
  {
   "cell_type": "code",
   "execution_count": 56,
   "metadata": {},
   "outputs": [
    {
     "name": "stdout",
     "output_type": "stream",
     "text": [
      "5\n",
      "4\n",
      "3\n",
      "2\n",
      "1\n"
     ]
    }
   ],
   "source": [
    "# for i in range(5):\n",
    "#     print(i)\n",
    "for i in range(5,0,-1):\n",
    "    print(i)"
   ]
  },
  {
   "cell_type": "code",
   "execution_count": 102,
   "metadata": {},
   "outputs": [
    {
     "name": "stdout",
     "output_type": "stream",
     "text": [
      "<zip object at 0x7f3262979fa0>\n",
      "1 0\n",
      "2 1\n",
      "3 2\n",
      "4 3\n"
     ]
    }
   ],
   "source": [
    "a = [1,2,3,4]\n",
    "b = [0,1,2,3]\n",
    "c = zip(a,b)\n",
    "print(c)\n",
    "\n",
    "\n",
    "for i,j in c:\n",
    "    print(i,j)\n",
    "# print(a)\n",
    "\n",
    "# for i in a:\n",
    "#     print(i)\n",
    "# for i,j in enumerate(reversed(a[1:])):\n",
    "#     print(i,j)"
   ]
  },
  {
   "cell_type": "code",
   "execution_count": 105,
   "metadata": {},
   "outputs": [
    {
     "name": "stdout",
     "output_type": "stream",
     "text": [
      "2\n",
      "3\n",
      "4\n",
      "0\n",
      "1\n",
      "2\n",
      "3\n",
      "4\n"
     ]
    }
   ],
   "source": [
    "for i in range(2,5,1):\n",
    "    print(i)\n",
    "for i in range(5):\n",
    "    print(i)"
   ]
  },
  {
   "cell_type": "code",
   "execution_count": 9,
   "metadata": {},
   "outputs": [
    {
     "name": "stdout",
     "output_type": "stream",
     "text": [
      "[1, 2, 3]\n"
     ]
    }
   ],
   "source": [
    "a = [1,2,3,4,5]\n",
    "a[0:30]\n",
    "print(a[0:3])\n",
    "# for i in reversed(a[1:]):\n",
    "#     print(i)"
   ]
  },
  {
   "cell_type": "code",
   "execution_count": 92,
   "metadata": {},
   "outputs": [
    {
     "data": {
      "text/plain": [
       "2"
      ]
     },
     "execution_count": 92,
     "metadata": {},
     "output_type": "execute_result"
    }
   ],
   "source": [
    "a = np.array([[1,2,3],[4,5,6]])\n",
    "a.shape[0]"
   ]
  },
  {
   "cell_type": "code",
   "execution_count": null,
   "metadata": {},
   "outputs": [],
   "source": []
  }
 ],
 "metadata": {
  "kernelspec": {
   "display_name": "Python 3",
   "language": "python",
   "name": "python3"
  },
  "language_info": {
   "codemirror_mode": {
    "name": "ipython",
    "version": 3
   },
   "file_extension": ".py",
   "mimetype": "text/x-python",
   "name": "python",
   "nbconvert_exporter": "python",
   "pygments_lexer": "ipython3",
   "version": "3.7.4"
  }
 },
 "nbformat": 4,
 "nbformat_minor": 2
}
