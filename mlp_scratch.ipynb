{
 "cells": [
  {
   "cell_type": "code",
   "execution_count": 1,
   "metadata": {},
   "outputs": [],
   "source": [
    "import numpy as np\n",
    "import math\n",
    "import matplotlib.pyplot as plt"
   ]
  },
  {
   "cell_type": "code",
   "execution_count": 2,
   "metadata": {},
   "outputs": [],
   "source": [
    "def sigmoid_(x):\n",
    "    \"\"\"devuelve el valor de la función sigmoid y su derivada\"\"\"\n",
    "    y = 1.0/(1.0+np.exp(-x))\n",
    "    der = y*(1-y)\n",
    "    return y, der\n",
    "    \n",
    "def relu_(x):\n",
    "    \"\"\"devuleve el valor de la función ReLu y su derivada\"\"\"\n",
    "    y = np.maximum(0,x)\n",
    "    der = x.copy()\n",
    "    der[x<=0] = 0\n",
    "    der[x>0] = 1\n",
    "    return y, der\n",
    "\n",
    "def rms_(x,y):\n",
    "    \"\"\"calcula el error cuadrático medio\"\"\"\n",
    "    res = (x-y)**2\n",
    "    return res.mean()"
   ]
  },
  {
   "cell_type": "code",
   "execution_count": 110,
   "metadata": {},
   "outputs": [],
   "source": [
    "class MLP():\n",
    "    \"\"\"crea un objeto para una red neuronal\"\"\"\n",
    "    def __init__(self, red, lr, epoch, X, Y, N):\n",
    "        \"\"\"se inicializan los valores necesarios para la red\"\"\"\n",
    "        self.red = red\n",
    "        self.lr = lr\n",
    "        self.epoch = epoch\n",
    "        self.X = X #tamaño Nxn0 (número de datos x dimensión de la red de entrada)\n",
    "        self.Y = Y #tamaño NxnL (número de datos x dimensión de la red de salida)\n",
    "        self.w_list = []\n",
    "        self.b_list = []\n",
    "        self.N = N #número de datos de entrada\n",
    "        \n",
    "        #crea las matrices w y b de la red#\n",
    "        for i,j in enumerate(red[:-1]):\n",
    "            w = np.random.randn(j,red[i+1])\n",
    "            b = np.random.randn(1,red[i+1])\n",
    "            self.w_list.append(w)\n",
    "            self.b_list.append(b)\n",
    "            \n",
    "#             print(w_list[-1].shape,b_list[-1].shape)\n",
    "#         print(len(self.w_list))\n",
    "        \n",
    "    def forward(self):\n",
    "        \"\"\"hace la multiplicación hacia adelante\"\"\"\n",
    "        z_list = []\n",
    "        a_list = []\n",
    "        \n",
    "        z = np.dot(X,self.w_list[0])+self.b_list[0]\n",
    "        \n",
    "        a = sigmoid_(z)[0]\n",
    "        z_list.append(z); a_list.append(a)\n",
    "        \n",
    "        for i in range(len(self.w_list))[1:]:\n",
    "            \n",
    "            z = np.dot(a,self.w_list[i])+self.b_list[i]\n",
    "            a = sigmoid_(z)[0]\n",
    "            \n",
    "            z_list.append(z); a_list.append(a)\n",
    "            \n",
    "        return z_list, a_list\n",
    "    \n",
    "    def backward(self, z_list, a_list):\n",
    "        \"\"\"hace la propagación hacia atrás\"\"\"\n",
    "        z_list = z_list\n",
    "        a_list = a_list\n",
    "        deltas_list = []\n",
    "        grad_list = []\n",
    "#         print(self.N)\n",
    "        inx_red = zip(reversed(range(1,len(self.red))),reversed(self.red[1:]))\n",
    "#         for i,j in inx_red:\n",
    "#             print(i,j)\n",
    "        for i,j in inx_red:\n",
    "            print(i,'este es la red en la que está', j, 'este es el tamaño de los perceptrones')\n",
    "            if i == len(self.red)-1:\n",
    "                delta = 2*(a_list[i-1]-Y)*sigmoid_(Y)[1]/self.N\n",
    "                grad = a_list[i-2].T@delta\n",
    "                deltas_list.insert(0,delta)\n",
    "                grad_list.insert(0,grad)\n",
    "                \n",
    "# # #         print(grad_list)\n",
    "#             else:\n",
    "#                 for k in range(self.N):\n",
    "#                     for beta in range(j):\n",
    "#                         print(k,beta)\n",
    "#                         for alpha in range():\n",
    "#                             delta[k,beta] = deltas_list[0][k,alpha]*self.w_list[i+1][beta, alpha]*sigmoid_(i)[1]"
   ]
  },
  {
   "cell_type": "code",
   "execution_count": 111,
   "metadata": {},
   "outputs": [
    {
     "name": "stdout",
     "output_type": "stream",
     "text": [
      "4 3\n",
      "3 6\n",
      "2 5\n",
      "1 3\n"
     ]
    }
   ],
   "source": [
    "X = np.random.randn(100,2)\n",
    "Y = np.random.randn(100,3)\n",
    "\n",
    "prueba = MLP([2,3,5,6,3],0.0001, 100, X, Y, 100)\n",
    "\n",
    "a,b = prueba.forward()\n",
    "prueba.backward(a,b)"
   ]
  },
  {
   "cell_type": "code",
   "execution_count": 290,
   "metadata": {},
   "outputs": [
    {
     "name": "stdout",
     "output_type": "stream",
     "text": [
      "[[1 2]\n",
      " [4 5]] [[ 2  4]\n",
      " [ 8 10]] 11.5\n"
     ]
    },
    {
     "data": {
      "text/plain": [
       "2"
      ]
     },
     "execution_count": 290,
     "metadata": {},
     "output_type": "execute_result"
    }
   ],
   "source": [
    "x = np.array([[1,2],[4,5]])\n",
    "y = x*2\n",
    "prueba = rms_(x,y)\n",
    "print(x,y,prueba)\n",
    "x[0,1]"
   ]
  },
  {
   "cell_type": "code",
   "execution_count": 278,
   "metadata": {},
   "outputs": [
    {
     "name": "stdout",
     "output_type": "stream",
     "text": [
      "5\n",
      "4\n",
      "3\n",
      "2\n",
      "1\n"
     ]
    }
   ],
   "source": [
    "x = np.array\n",
    "for i in range(5,0,-1):\n",
    "    print(i)"
   ]
  },
  {
   "cell_type": "code",
   "execution_count": 279,
   "metadata": {},
   "outputs": [],
   "source": [
    "x = np.array([1,2,3,4])"
   ]
  },
  {
   "cell_type": "code",
   "execution_count": 281,
   "metadata": {},
   "outputs": [
    {
     "data": {
      "text/plain": [
       "array([1, 2, 3])"
      ]
     },
     "execution_count": 281,
     "metadata": {},
     "output_type": "execute_result"
    }
   ],
   "source": [
    "x[:-1]"
   ]
  },
  {
   "cell_type": "code",
   "execution_count": 56,
   "metadata": {},
   "outputs": [
    {
     "name": "stdout",
     "output_type": "stream",
     "text": [
      "5\n",
      "4\n",
      "3\n",
      "2\n",
      "1\n"
     ]
    }
   ],
   "source": [
    "# for i in range(5):\n",
    "#     print(i)\n",
    "for i in range(5,0,-1):\n",
    "    print(i)"
   ]
  },
  {
   "cell_type": "code",
   "execution_count": 102,
   "metadata": {},
   "outputs": [
    {
     "name": "stdout",
     "output_type": "stream",
     "text": [
      "<zip object at 0x7f3262979fa0>\n",
      "1 0\n",
      "2 1\n",
      "3 2\n",
      "4 3\n"
     ]
    }
   ],
   "source": [
    "a = [1,2,3,4]\n",
    "b = [0,1,2,3]\n",
    "c = zip(a,b)\n",
    "print(c)\n",
    "\n",
    "\n",
    "for i,j in c:\n",
    "    print(i,j)\n",
    "# print(a)\n",
    "\n",
    "# for i in a:\n",
    "#     print(i)\n",
    "# for i,j in enumerate(reversed(a[1:])):\n",
    "#     print(i,j)"
   ]
  },
  {
   "cell_type": "code",
   "execution_count": 105,
   "metadata": {},
   "outputs": [
    {
     "name": "stdout",
     "output_type": "stream",
     "text": [
      "2\n",
      "3\n",
      "4\n",
      "0\n",
      "1\n",
      "2\n",
      "3\n",
      "4\n"
     ]
    }
   ],
   "source": [
    "for i in range(2,5,1):\n",
    "    print(i)\n",
    "for i in range(5):\n",
    "    print(i)"
   ]
  },
  {
   "cell_type": "code",
   "execution_count": 109,
   "metadata": {},
   "outputs": [
    {
     "name": "stdout",
     "output_type": "stream",
     "text": [
      "5\n",
      "4\n",
      "3\n",
      "2\n"
     ]
    }
   ],
   "source": [
    "a = [1,2,3,4,5]\n",
    "for i in reversed(a[1:]):\n",
    "    print(i)"
   ]
  },
  {
   "cell_type": "code",
   "execution_count": null,
   "metadata": {},
   "outputs": [],
   "source": []
  }
 ],
 "metadata": {
  "kernelspec": {
   "display_name": "Python 3",
   "language": "python",
   "name": "python3"
  },
  "language_info": {
   "codemirror_mode": {
    "name": "ipython",
    "version": 3
   },
   "file_extension": ".py",
   "mimetype": "text/x-python",
   "name": "python",
   "nbconvert_exporter": "python",
   "pygments_lexer": "ipython3",
   "version": "3.7.4"
  }
 },
 "nbformat": 4,
 "nbformat_minor": 2
}
