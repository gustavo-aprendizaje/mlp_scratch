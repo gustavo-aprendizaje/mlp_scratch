{
 "cells": [
  {
   "cell_type": "code",
   "execution_count": 1,
   "metadata": {},
   "outputs": [],
   "source": [
    "import numpy as np\n",
    "import math\n",
    "import matplotlib.pyplot as plt"
   ]
  },
  {
   "cell_type": "code",
   "execution_count": 2,
   "metadata": {},
   "outputs": [],
   "source": [
    "def sigmoid_(x):\n",
    "    \"\"\"devuelve el valor de la función sigmoid y su derivada\"\"\"\n",
    "    y = 1.0/(1.0+np.exp(-x))\n",
    "    der = y*(1-y)\n",
    "    return y, der\n",
    "    \n",
    "def relu_(x):\n",
    "    \"\"\"devuleve el valor de la función ReLu y su derivada\"\"\"\n",
    "    y = np.maximum(0,x)\n",
    "    der = x.copy()\n",
    "    der[x<=0] = 0\n",
    "    der[x>0] = 1\n",
    "    return y, der\n",
    "\n",
    "def rms_(x,y):\n",
    "    \"\"\"calcula el error cuadrático medio\"\"\"\n",
    "    res = (x-y)**2\n",
    "    return res.mean()"
   ]
  },
  {
   "cell_type": "code",
   "execution_count": 52,
   "metadata": {},
   "outputs": [],
   "source": [
    "class MLP():\n",
    "    \"\"\"crea un objeto para una red neuronal\"\"\"\n",
    "    def __init__(self, red, N, epochs):\n",
    "        \"\"\"se inicializan los valores necesarios para la red\"\"\"\n",
    "        self.red = red\n",
    "        self.lr = lr\n",
    "#         self.X = X #tamaño Nxn0 (número de datos x dimensión de la red de entrada)\n",
    "#         self.Y = Y #tamaño NxnL (número de datos x dimensión de la red de salida)\n",
    "        self.N = N #número de datos de entrada\n",
    "        self.epochs = epochs\n",
    "        \n",
    "        \n",
    "    def create_(self):\n",
    "        \"\"\"crea las matrices w y b iniciales de la red\"\"\"\n",
    "    \n",
    "        w_list = [0]\n",
    "        b_list = [0]\n",
    "        \n",
    "        for i,j in enumerate(self.red[:-1]):\n",
    "            w = np.random.randn(j,self.red[i+1])\n",
    "            b = np.random.randn(1,self.red[i+1])\n",
    "            w_list.append(w)\n",
    "            b_list.append(b)\n",
    "            \n",
    "        return w_list, b_list\n",
    "            \n",
    "\n",
    "    def forward_(self,w_list, b_list, X):\n",
    "        \"\"\"hace la multiplicación hacia adelante\"\"\"\n",
    "        z_list = []\n",
    "        a_list = []\n",
    "        \n",
    "        z_list.append(0)  ## este es un dato dummy, solo para el el tamaño de la lista de z y de a coincidan\n",
    "        a_list.append(X)\n",
    "        z = np.dot(X,w_list[1])+b_list[1]\n",
    "        a = sigmoid_(z)[1]\n",
    "        z_list.append(z); a_list.append(a)\n",
    "        \n",
    "        for i in range(len(w_list))[2:]:\n",
    "            \n",
    "            z = np.dot(a,w_list[i])+b_list[i]\n",
    "            a = sigmoid_(z)[0]\n",
    "            \n",
    "            z_list.append(z); a_list.append(a)\n",
    "            \n",
    "        return z_list, a_list\n",
    "    \n",
    "    def backward_(self, z_list, a_list, w_list, b_list, Y):\n",
    "        \"\"\"hace la propagación hacia atrás\"\"\"\n",
    "        z_list = z_list\n",
    "        a_list = a_list\n",
    "        deltas_list = []\n",
    "        grad_list = [0]\n",
    "        grad_b_list = [0]\n",
    "        inx_red = zip(reversed(range(1,len(self.red))),reversed(self.red[1:]))\n",
    "        for i,j in inx_red:\n",
    "            if i == len(self.red)-1:\n",
    "                delta = 2*(a_list[i]-Y)*sigmoid_(Y)[1]/self.N\n",
    "\n",
    "                deltas_list.insert(0,delta)\n",
    "\n",
    "            else:\n",
    "                delta1 = np.zeros((self.N,j))\n",
    "                for k in range(self.N):\n",
    "                    for beta in range(j):\n",
    "                        for alpha in range(self.red[i+1]):\n",
    "        \n",
    "                            delta1[k,beta] = deltas_list[0][k,alpha]*w_list[i+1][beta,alpha]*sigmoid_(z_list[i][k,beta])[1]\n",
    "                deltas_list.insert(0,delta1)\n",
    "        \n",
    "\n",
    "        for i in range(len(deltas_list)):\n",
    "            grad = a_list[i].T@deltas_list[i]\n",
    "            grad_list.append(grad)\n",
    "            grad_b = deltas_list[i].sum(0)\n",
    "            grad_b_list.append(grad_b.reshape(1,len(deltas_list[i][1]))) ## hace un reshape para que coincida la dimensión con los valores de b\n",
    "        return grad_list, grad_b_list\n",
    "    \n",
    "    def loss_(self, a, Y):\n",
    "        \"\"\"calcula el error\"\"\"\n",
    "        loss = (a-Y)**2\n",
    "        return loss.mean()\n",
    "    \n",
    "    def slices_(self,X,Y)\n",
    "            \"\"\"divide la matriz de entrada y de salida de acuerdo al número de épocas\"\"\"\n",
    "            slices = self.N // epochs\n",
    "            X_list = []\n",
    "            Y_list = []\n",
    "            if self.N%epochs == 0:\n",
    "                for i in range()\n",
    "                    \n"
   ]
  },
  {
   "cell_type": "code",
   "execution_count": 54,
   "metadata": {},
   "outputs": [
    {
     "name": "stdout",
     "output_type": "stream",
     "text": [
      "(2, 3) (1, 3)\n",
      "(3, 5) (1, 5)\n",
      "(5, 6) (1, 6)\n",
      "(6, 3) (1, 3)\n",
      "1.7321237899564843\n"
     ]
    }
   ],
   "source": [
    "\n",
    "\n",
    "epochs = 100\n",
    "lr = 0.001\n",
    "N = 1000\n",
    "red = [2,3,5,6,3]\n",
    "\n",
    "X = np.random.randn(N,red[0])\n",
    "Y = np.random.randn(N,red[-1])\n",
    "\n",
    "nn = MLP(red, N, epochs)\n",
    "\n",
    "w, b = nn.create_()\n",
    "\n",
    "def train_(w,b, epochs = epochs, lr=lr)\n",
    "    \"\"\"entrena el modelo\"\"\"\n",
    "    for i in range(epochs):\n",
    "        z,a = nn.forward_(w,b)\n",
    "        gw, gb = nn.backward_(z,a,w,b)\n",
    "        \n",
    "        for j in range(len(w)):\n",
    "            w[j] -= lr*gw[j]\n",
    "            b[j] -= lr*gb[j]\n",
    "        \n",
    "# z, a = prueba.forward_(w,b)\n",
    "# gr, gr_b= prueba.backward_(z,a,w,b)\n",
    "# loss = prueba.loss_(a[4])\n",
    "\n",
    "# for i in range(len(gr))[1:]:\n",
    "#     print(gr[i].shape, gr_b[i].shape)\n",
    "# print(loss)"
   ]
  },
  {
   "cell_type": "code",
   "execution_count": 55,
   "metadata": {},
   "outputs": [
    {
     "name": "stdout",
     "output_type": "stream",
     "text": [
      "[[ 1  4  9]\n",
      " [16 25 36]]\n"
     ]
    }
   ],
   "source": [
    "a = np.array([[1,2,3],[4,5,6]])\n",
    "print(a**2)"
   ]
  },
  {
   "cell_type": "code",
   "execution_count": 281,
   "metadata": {},
   "outputs": [
    {
     "data": {
      "text/plain": [
       "array([1, 2, 3])"
      ]
     },
     "execution_count": 281,
     "metadata": {},
     "output_type": "execute_result"
    }
   ],
   "source": [
    "x[:-1]"
   ]
  },
  {
   "cell_type": "code",
   "execution_count": 56,
   "metadata": {},
   "outputs": [
    {
     "name": "stdout",
     "output_type": "stream",
     "text": [
      "5\n",
      "4\n",
      "3\n",
      "2\n",
      "1\n"
     ]
    }
   ],
   "source": [
    "# for i in range(5):\n",
    "#     print(i)\n",
    "for i in range(5,0,-1):\n",
    "    print(i)"
   ]
  },
  {
   "cell_type": "code",
   "execution_count": 102,
   "metadata": {},
   "outputs": [
    {
     "name": "stdout",
     "output_type": "stream",
     "text": [
      "<zip object at 0x7f3262979fa0>\n",
      "1 0\n",
      "2 1\n",
      "3 2\n",
      "4 3\n"
     ]
    }
   ],
   "source": [
    "a = [1,2,3,4]\n",
    "b = [0,1,2,3]\n",
    "c = zip(a,b)\n",
    "print(c)\n",
    "\n",
    "\n",
    "for i,j in c:\n",
    "    print(i,j)\n",
    "# print(a)\n",
    "\n",
    "# for i in a:\n",
    "#     print(i)\n",
    "# for i,j in enumerate(reversed(a[1:])):\n",
    "#     print(i,j)"
   ]
  },
  {
   "cell_type": "code",
   "execution_count": 105,
   "metadata": {},
   "outputs": [
    {
     "name": "stdout",
     "output_type": "stream",
     "text": [
      "2\n",
      "3\n",
      "4\n",
      "0\n",
      "1\n",
      "2\n",
      "3\n",
      "4\n"
     ]
    }
   ],
   "source": [
    "for i in range(2,5,1):\n",
    "    print(i)\n",
    "for i in range(5):\n",
    "    print(i)"
   ]
  },
  {
   "cell_type": "code",
   "execution_count": 109,
   "metadata": {},
   "outputs": [
    {
     "name": "stdout",
     "output_type": "stream",
     "text": [
      "5\n",
      "4\n",
      "3\n",
      "2\n"
     ]
    }
   ],
   "source": [
    "a = [1,2,3,4,5]\n",
    "for i in reversed(a[1:]):\n",
    "    print(i)"
   ]
  },
  {
   "cell_type": "code",
   "execution_count": null,
   "metadata": {},
   "outputs": [],
   "source": []
  }
 ],
 "metadata": {
  "kernelspec": {
   "display_name": "Python 3",
   "language": "python",
   "name": "python3"
  },
  "language_info": {
   "codemirror_mode": {
    "name": "ipython",
    "version": 3
   },
   "file_extension": ".py",
   "mimetype": "text/x-python",
   "name": "python",
   "nbconvert_exporter": "python",
   "pygments_lexer": "ipython3",
   "version": "3.7.6"
  }
 },
 "nbformat": 4,
 "nbformat_minor": 2
}
